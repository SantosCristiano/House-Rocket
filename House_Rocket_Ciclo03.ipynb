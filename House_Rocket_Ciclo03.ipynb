{
 "cells": [
  {
   "cell_type": "markdown",
   "id": "03a0d086",
   "metadata": {},
   "source": [
    "# Imports"
   ]
  },
  {
   "cell_type": "code",
   "execution_count": 30,
   "id": "61c65fac",
   "metadata": {},
   "outputs": [],
   "source": [
    "import pandas as pd\n",
    "import numpy  as np\n",
    "from matplotlib import pyplot       as plt\n",
    "from sklearn    import linear_model as lm"
   ]
  },
  {
   "cell_type": "markdown",
   "id": "2a06f6a9",
   "metadata": {},
   "source": [
    "# Loading Data"
   ]
  },
  {
   "cell_type": "code",
   "execution_count": 6,
   "id": "bf14b1ab",
   "metadata": {},
   "outputs": [],
   "source": [
    "df_raw = pd.read_fwf('dataset/student_height_weight.txt')\n",
    "df_raw.columns = ['altura', 'peso']"
   ]
  },
  {
   "cell_type": "code",
   "execution_count": 7,
   "id": "4af1d5b9",
   "metadata": {},
   "outputs": [
    {
     "data": {
      "text/html": [
       "<div>\n",
       "<style scoped>\n",
       "    .dataframe tbody tr th:only-of-type {\n",
       "        vertical-align: middle;\n",
       "    }\n",
       "\n",
       "    .dataframe tbody tr th {\n",
       "        vertical-align: top;\n",
       "    }\n",
       "\n",
       "    .dataframe thead th {\n",
       "        text-align: right;\n",
       "    }\n",
       "</style>\n",
       "<table border=\"1\" class=\"dataframe\">\n",
       "  <thead>\n",
       "    <tr style=\"text-align: right;\">\n",
       "      <th></th>\n",
       "      <th>altura</th>\n",
       "      <th>peso</th>\n",
       "    </tr>\n",
       "  </thead>\n",
       "  <tbody>\n",
       "    <tr>\n",
       "      <th>0</th>\n",
       "      <td>63</td>\n",
       "      <td>127</td>\n",
       "    </tr>\n",
       "    <tr>\n",
       "      <th>1</th>\n",
       "      <td>64</td>\n",
       "      <td>121</td>\n",
       "    </tr>\n",
       "    <tr>\n",
       "      <th>2</th>\n",
       "      <td>66</td>\n",
       "      <td>142</td>\n",
       "    </tr>\n",
       "    <tr>\n",
       "      <th>3</th>\n",
       "      <td>69</td>\n",
       "      <td>157</td>\n",
       "    </tr>\n",
       "    <tr>\n",
       "      <th>4</th>\n",
       "      <td>69</td>\n",
       "      <td>162</td>\n",
       "    </tr>\n",
       "    <tr>\n",
       "      <th>5</th>\n",
       "      <td>71</td>\n",
       "      <td>156</td>\n",
       "    </tr>\n",
       "    <tr>\n",
       "      <th>6</th>\n",
       "      <td>71</td>\n",
       "      <td>169</td>\n",
       "    </tr>\n",
       "    <tr>\n",
       "      <th>7</th>\n",
       "      <td>72</td>\n",
       "      <td>165</td>\n",
       "    </tr>\n",
       "    <tr>\n",
       "      <th>8</th>\n",
       "      <td>73</td>\n",
       "      <td>181</td>\n",
       "    </tr>\n",
       "    <tr>\n",
       "      <th>9</th>\n",
       "      <td>75</td>\n",
       "      <td>208</td>\n",
       "    </tr>\n",
       "  </tbody>\n",
       "</table>\n",
       "</div>"
      ],
      "text/plain": [
       "   altura  peso\n",
       "0      63   127\n",
       "1      64   121\n",
       "2      66   142\n",
       "3      69   157\n",
       "4      69   162\n",
       "5      71   156\n",
       "6      71   169\n",
       "7      72   165\n",
       "8      73   181\n",
       "9      75   208"
      ]
     },
     "execution_count": 7,
     "metadata": {},
     "output_type": "execute_result"
    }
   ],
   "source": [
    "df_raw"
   ]
  },
  {
   "cell_type": "code",
   "execution_count": 36,
   "id": "9212cb6e",
   "metadata": {},
   "outputs": [
    {
     "data": {
      "text/plain": [
       "[<matplotlib.lines.Line2D at 0x27b51024550>]"
      ]
     },
     "execution_count": 36,
     "metadata": {},
     "output_type": "execute_result"
    },
    {
     "data": {
      "image/png": "[encoded data removed]",
      "text/plain": [
       "<Figure size 432x288 with 1 Axes>"
      ]
     },
     "metadata": {
      "needs_background": "light"
     },
     "output_type": "display_data"
    }
   ],
   "source": [
    "plt.scatter(df_raw['altura'], df_raw['peso'])\n",
    "plt.plot( df_raw['altura'], yhat01, color='red')\n",
    "plt.plot( df_raw['altura'], yhat02, color='green')\n",
    "plt.plot( df_raw['altura'], yhat03, color='black')"
   ]
  },
  {
   "cell_type": "code",
   "execution_count": 35,
   "id": "b0116828",
   "metadata": {},
   "outputs": [],
   "source": [
    "#yhat = b0 + b1*x\n",
    "X = df_raw['altura']\n",
    "yhat01 = -190 + 5.13*X\n",
    "yhat02 = -260 + 6.01*X\n",
    "yhat03 = -266 + 6.13*X"
   ]
  },
  {
   "cell_type": "code",
   "execution_count": 27,
   "id": "cd4bc58b",
   "metadata": {},
   "outputs": [
    {
     "name": "stdout",
     "output_type": "stream",
     "text": [
      "SS M01: 1187.6947000000002\n",
      "SS M02: 652.8562999999997\n"
     ]
    }
   ],
   "source": [
    "# Least Square Error\n",
    "df1 = df_raw.copy()\n",
    "df1['yhat01'] = yhat01\n",
    "df1['yhat02'] = yhat02\n",
    "\n",
    "# error\n",
    "df1['error01'] = ( df1['peso'] - df1['yhat01'] )**2\n",
    "df1['error02'] = ( df1['peso'] - df1['yhat02'] )**2\n",
    "print( 'SS M01: {}'.format( np.sum( df1['error01'] ) ) ) \n",
    "print( 'SS M02: {}'.format( np.sum( df1['error02'] ) ) ) "
   ]
  },
  {
   "cell_type": "code",
   "execution_count": 31,
   "id": "f9ea1f47",
   "metadata": {},
   "outputs": [
    {
     "data": {
      "text/plain": [
       "LinearRegression()"
      ]
     },
     "execution_count": 31,
     "metadata": {},
     "output_type": "execute_result"
    }
   ],
   "source": [
    "# model definition\n",
    "X = np.array( df_raw['altura'] ).reshape( -1, 1 )\n",
    "y = np.array( df_raw['peso'] ).reshape( -1, 1 )\n",
    "\n",
    "model_lm = lm.LinearRegression()\n",
    "\n",
    "# model training\n",
    "model_lm.fit( X, y )"
   ]
  },
  {
   "cell_type": "code",
   "execution_count": 32,
   "id": "94adc3ea",
   "metadata": {},
   "outputs": [
    {
     "name": "stdout",
     "output_type": "stream",
     "text": [
      "b1: [[6.13758146]]\n",
      "b0: [-266.53439537]\n"
     ]
    }
   ],
   "source": [
    "print( 'b1: {}'.format( model_lm.coef_ ) )\n",
    "print( 'b0: {}'.format( model_lm.intercept_) )"
   ]
  },
  {
   "cell_type": "code",
   "execution_count": 38,
   "id": "726a108a",
   "metadata": {},
   "outputs": [
    {
     "data": {
      "text/plain": [
       "169.41000000000003"
      ]
     },
     "execution_count": 38,
     "metadata": {},
     "output_type": "execute_result"
    }
   ],
   "source": [
    "altura01 = 71\n",
    "peso01 = -266.53 + 6.14 * altura01\n",
    "peso01"
   ]
  },
  {
   "cell_type": "code",
   "execution_count": 39,
   "id": "be628673",
   "metadata": {},
   "outputs": [
    {
     "data": {
      "text/plain": [
       "175.55"
      ]
     },
     "execution_count": 39,
     "metadata": {},
     "output_type": "execute_result"
    }
   ],
   "source": [
    "altura02 = 72\n",
    "peso02 = -266.53 + 6.14 * altura02\n",
    "peso02"
   ]
  },
  {
   "cell_type": "code",
   "execution_count": 41,
   "id": "bd6f77c3",
   "metadata": {},
   "outputs": [
    {
     "data": {
      "text/plain": [
       "6.139999999999986"
      ]
     },
     "execution_count": 41,
     "metadata": {},
     "output_type": "execute_result"
    }
   ],
   "source": [
    "peso02 - peso01"
   ]
  }
 ],
 "metadata": {
  "kernelspec": {
   "display_name": "Python 3",
   "language": "python",
   "name": "python3"
  },
  "language_info": {
   "codemirror_mode": {
    "name": "ipython",
    "version": 3
   },
   "file_extension": ".py",
   "mimetype": "text/x-python",
   "name": "python",
   "nbconvert_exporter": "python",
   "pygments_lexer": "ipython3",
   "version": "3.9.5"
  }
 },
 "nbformat": 4,
 "nbformat_minor": 5
}
